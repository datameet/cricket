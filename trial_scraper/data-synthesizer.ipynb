{
 "metadata": {
  "name": "",
  "signature": "sha256:d1be31b0b5b52fb833ca31b88822679747ce922d56dfbed037577324c50882c6"
 },
 "nbformat": 3,
 "nbformat_minor": 0,
 "worksheets": [
  {
   "cells": [
    {
     "cell_type": "code",
     "collapsed": false,
     "input": [
      "%matplotlib inline\n",
      "\n",
      "import json\n",
      "import pandas as pd\n",
      "import numpy as np\n",
      "import matplotlib.pyplot as plt\n",
      "\n",
      "plt.style.use('ggplot')"
     ],
     "language": "python",
     "metadata": {},
     "outputs": [],
     "prompt_number": 1
    },
    {
     "cell_type": "code",
     "collapsed": false,
     "input": [
      "match_id = '65286'"
     ],
     "language": "python",
     "metadata": {},
     "outputs": [],
     "prompt_number": 2
    },
    {
     "cell_type": "code",
     "collapsed": false,
     "input": [
      "def f(i):\n",
      "    return i['bat'], i['bowl'], i['o_u'], i['ovr'], i['r'], i['r_t'], i['x'], i['y'], i['z']"
     ],
     "language": "python",
     "metadata": {},
     "outputs": [],
     "prompt_number": 3
    },
    {
     "cell_type": "code",
     "collapsed": false,
     "input": [
      "df = pd.io.json.read_json('data/%s-wagon-inning-1.json'%(match_id), dtype=False)\n",
      "df['inning'] = 1\n",
      "\n",
      "df2 = pd.io.json.read_json('data/%s-wagon-inning-2.json'%(match_id), dtype=False)\n",
      "df2['inning'] = 2\n",
      "\n",
      "df = df.append(df2)"
     ],
     "language": "python",
     "metadata": {},
     "outputs": [],
     "prompt_number": 4
    },
    {
     "cell_type": "code",
     "collapsed": false,
     "input": [
      "df['batsman'], df['bowler'], df['ball_num'], df['ovr'], df['runs_batter'], df['runs_w_extras'], df['x'], df['y'], df['z'] = zip(*df.runs.apply(f))"
     ],
     "language": "python",
     "metadata": {},
     "outputs": [],
     "prompt_number": 5
    },
    {
     "cell_type": "code",
     "collapsed": false,
     "input": [
      "df = df.drop('runs', axis=1)"
     ],
     "language": "python",
     "metadata": {},
     "outputs": [],
     "prompt_number": 6
    },
    {
     "cell_type": "code",
     "collapsed": false,
     "input": [
      "for param in ['ball_num', 'ovr', 'runs_batter', 'runs_w_extras', 'x', 'y', 'z']:\n",
      "    df[param] = df[param].astype(float)"
     ],
     "language": "python",
     "metadata": {},
     "outputs": [],
     "prompt_number": 7
    },
    {
     "cell_type": "code",
     "collapsed": false,
     "input": [
      "df['extras'] = df['runs_w_extras'] - df['runs_batter']"
     ],
     "language": "python",
     "metadata": {},
     "outputs": [],
     "prompt_number": 8
    },
    {
     "cell_type": "code",
     "collapsed": false,
     "input": [
      "wicket_data = json.load(open('data/%s-pie-wickets.json'%(match_id)))"
     ],
     "language": "python",
     "metadata": {},
     "outputs": [],
     "prompt_number": 9
    },
    {
     "cell_type": "code",
     "collapsed": false,
     "input": [
      "from collections import defaultdict\n",
      "dismissals = defaultdict(dict)\n",
      "\n",
      "for i in wicket_data['t1']['w']:\n",
      "    dismissals[float(i['ovr'])] = {'inning': 1, 'how': i['how'], 'ovr': float(i['ovr']), 'batsman': i['out'], 'bowler': i['outby']}\n",
      "\n",
      "for i in wicket_data['t2']['w']:\n",
      "    dismissals[float(i['ovr'])] = {'inning': 2, 'how': i['how'], 'ovr': float(i['ovr']), 'batsman': i['out'], 'bowler': i['outby']}"
     ],
     "language": "python",
     "metadata": {},
     "outputs": [],
     "prompt_number": 10
    },
    {
     "cell_type": "code",
     "collapsed": false,
     "input": [
      "def add_wickets(ovr, inning, batsman, dismissals = dismissals):\n",
      "    if ovr in dismissals:\n",
      "        if dismissals[ovr]['inning'] == inning and dismissals[ovr]['batsman'] == batsman:\n",
      "            return True, dismissals[ovr]['how']\n",
      "    return np.nan, np.nan, np.nan\n",
      "\n",
      "df['wicket'], df['wicket_method'], = zip(*df.apply(lambda row: add_wickets(row['ovr'], row['inning'], row['batsman']), axis=1))\n",
      "df['match_id'] = match_id"
     ],
     "language": "python",
     "metadata": {},
     "outputs": [],
     "prompt_number": 11
    },
    {
     "cell_type": "code",
     "collapsed": false,
     "input": [
      "player_db = {}\n",
      "\n",
      "for d in wicket_data['t1']['p']:\n",
      "    player_db.update(d)\n",
      "\n",
      "for d in wicket_data['t2']['p']:\n",
      "    player_db.update(d)\n",
      "\n",
      "try:\n",
      "    player_db = player_db.update(json.load(open('player_db/key_value.json'%(match_id))))\n",
      "except:\n",
      "    pass    \n",
      "\n",
      "with open('player_db/key_value.json', 'w') as outfile:\n",
      "    json.dump(player_db, outfile)"
     ],
     "language": "python",
     "metadata": {},
     "outputs": [],
     "prompt_number": 12
    },
    {
     "cell_type": "code",
     "collapsed": false,
     "input": [
      "def get_name(i):\n",
      "    return player_db[i]\n",
      "\n",
      "df['batsman_name'] = df['batsman'].apply(get_name)\n",
      "df['bowler_name'] = df['bowler'].apply(get_name)"
     ],
     "language": "python",
     "metadata": {},
     "outputs": [],
     "prompt_number": 13
    },
    {
     "cell_type": "code",
     "collapsed": false,
     "input": [
      "cols = ['inning', 'batsman', 'bowler', 'batsman_name', 'bowler_name', 'ovr', 'runs_batter', 'runs_w_extras',\n",
      "        'x', 'y', 'z', 'extras', 'wicket', 'wicket_method']\n",
      "df = df[cols]"
     ],
     "language": "python",
     "metadata": {},
     "outputs": [],
     "prompt_number": 14
    },
    {
     "cell_type": "code",
     "collapsed": false,
     "input": [
      "df.to_csv('cleaned_data/%s_summary.csv'%(match_id))"
     ],
     "language": "python",
     "metadata": {},
     "outputs": [],
     "prompt_number": 15
    }
   ],
   "metadata": {}
  }
 ]
}