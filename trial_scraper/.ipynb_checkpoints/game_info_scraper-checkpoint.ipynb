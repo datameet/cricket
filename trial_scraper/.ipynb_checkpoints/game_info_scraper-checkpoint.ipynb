{
 "metadata": {
  "name": "",
  "signature": "sha256:faa3797989f3f462ba239eaec59921e5dd3a59c95d3a4bee380695c98a05c589"
 },
 "nbformat": 3,
 "nbformat_minor": 0,
 "worksheets": [
  {
   "cells": [
    {
     "cell_type": "heading",
     "level": 1,
     "metadata": {},
     "source": [
      "Sample scraper for Cricinfo"
     ]
    },
    {
     "cell_type": "heading",
     "level": 3,
     "metadata": {},
     "source": [
      "Overall Data"
     ]
    },
    {
     "cell_type": "markdown",
     "metadata": {},
     "source": [
      "This scraper requests json files from cricinfo, which are then saved to a data folder"
     ]
    },
    {
     "cell_type": "code",
     "collapsed": false,
     "input": [
      "import requests"
     ],
     "language": "python",
     "metadata": {},
     "outputs": [],
     "prompt_number": 87
    },
    {
     "cell_type": "code",
     "collapsed": false,
     "input": [
      "game_id = '65286'"
     ],
     "language": "python",
     "metadata": {},
     "outputs": [],
     "prompt_number": 88
    },
    {
     "cell_type": "code",
     "collapsed": false,
     "input": [
      "import json\n",
      "\n",
      "r1 = requests.get('http://www.espncricinfo.com/ci/engine/match/%s.json?innings=1'%(game_id))\n",
      "r2 = requests.get('http://www.espncricinfo.com/ci/engine/match/%s.json?innings=2'%(game_id))\n",
      "results1 = r1.json()\n",
      "results2 = r2.json()\n",
      "\n",
      "with open(game_id+'-overview-inning-1.json', 'w') as outfile:\n",
      "    json.dump(results1, outfile)\n",
      "\n",
      "with open(game_id+'-overview-inning-2.json', 'w') as outfile:\n",
      "    json.dump(results2, outfile)"
     ],
     "language": "python",
     "metadata": {},
     "outputs": [],
     "prompt_number": 90
    },
    {
     "cell_type": "markdown",
     "metadata": {},
     "source": [
      "These json files contain the following keys, along with other irrelevant keys:\n",
      "* innings: a list consisting of two dictionaries - one for each innings\n",
      "* description: the tournament name, names of teams involved, the venue, and the date\n",
      "* comms: contains ball by ball commentary for the last 6 overs\n",
      "* centre :a dictionary containing individual player scores, bowling figures, and fall of wickets. this is the only attribute that is different in results1 and results 2\n",
      "* official: contains the details of the umpires and referee involved\n",
      "* team: contains biographical info of everyone involved in the team\n",
      "* match: contains details of the ground etc"
     ]
    },
    {
     "cell_type": "heading",
     "level": 3,
     "metadata": {},
     "source": [
      "Granular data"
     ]
    },
    {
     "cell_type": "markdown",
     "metadata": {},
     "source": [
      "The json request can contain query strings that yield cleaned, ball-by-ball results. These are described in detail below."
     ]
    },
    {
     "cell_type": "heading",
     "level": 4,
     "metadata": {},
     "source": [
      "Ball by ball wagon data"
     ]
    },
    {
     "cell_type": "markdown",
     "metadata": {},
     "source": [
      "Ball-by-ball data about where a batsman hit a bowler (and for how many runs) can be obtained, as shown below."
     ]
    },
    {
     "cell_type": "code",
     "collapsed": false,
     "input": [
      "r1 = requests.get('http://www.espncricinfo.com/ci/engine/match/gfx/%s.json?inning=1;template=wagon'%(game_id))\n",
      "r2 = requests.get('http://www.espncricinfo.com/ci/engine/match/gfx/%s.json?inning=2;template=wagon'%(game_id))\n",
      "with open(game_id+'-wagon-inning-1.json', 'w') as outfile:\n",
      "    json.dump(r1.json(), outfile)\n",
      "\n",
      "with open(game_id+'-wagon-inning-2.json', 'w') as outfile:\n",
      "    json.dump(r2.json(), outfile)"
     ],
     "language": "python",
     "metadata": {},
     "outputs": [],
     "prompt_number": 91
    },
    {
     "cell_type": "heading",
     "level": 4,
     "metadata": {},
     "source": [
      "Ball by ball non-wagon data"
     ]
    },
    {
     "cell_type": "markdown",
     "metadata": {},
     "source": [
      "The same data could be obtained without the coordinates of where the shot was hit from the link below."
     ]
    },
    {
     "cell_type": "code",
     "collapsed": false,
     "input": [
      "r = requests.get('http://www.espncricinfo.com/ci/engine/match/gfx/%s.json?template=horiz'%(game_id))\n",
      "with open(game_id+'-horiz.json', 'w') as outfile:\n",
      "    json.dump(r.json(), outfile)"
     ],
     "language": "python",
     "metadata": {},
     "outputs": [],
     "prompt_number": 92
    },
    {
     "cell_type": "heading",
     "level": 4,
     "metadata": {},
     "source": [
      "Fall of wickets"
     ]
    },
    {
     "cell_type": "markdown",
     "metadata": {},
     "source": [
      "Data for the fall of wickets can be obtained from the link below."
     ]
    },
    {
     "cell_type": "code",
     "collapsed": false,
     "input": [
      "r = requests.get('http://www.espncricinfo.com/ci/engine/match/gfx/%s.json?template=fow'%(game_id))\n",
      "with open(game_id+'-fow.json', 'w') as outfile:\n",
      "    json.dump(r.json(), outfile)"
     ],
     "language": "python",
     "metadata": {},
     "outputs": [],
     "prompt_number": 93
    },
    {
     "cell_type": "markdown",
     "metadata": {},
     "source": [
      "More details about fall of wickets (including mode of dismissal) can be obtained at the link below."
     ]
    },
    {
     "cell_type": "code",
     "collapsed": false,
     "input": [
      "r = requests.get('http://www.espncricinfo.com/ci/engine/match/gfx/%s.json?template=pie_wickets'%(game_id))\n",
      "with open(game_id+'-pie-wickets.json', 'w') as outfile:\n",
      "    json.dump(r.json(), outfile)"
     ],
     "language": "python",
     "metadata": {},
     "outputs": [],
     "prompt_number": 94
    },
    {
     "cell_type": "heading",
     "level": 4,
     "metadata": {},
     "source": [
      "Other links"
     ]
    },
    {
     "cell_type": "markdown",
     "metadata": {},
     "source": [
      "Other links that contain potentially useful information are:\n",
      "* http://www.espncricinfo.com/ci/engine/match/gfx/65286.json?template=worm\n",
      "* http://www.espncricinfo.com/ci/engine/match/gfx/65286.json?template=pie_extras"
     ]
    }
   ],
   "metadata": {}
  }
 ]
}